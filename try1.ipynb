{
 "metadata": {
  "language_info": {
   "codemirror_mode": {
    "name": "ipython",
    "version": 3
   },
   "file_extension": ".py",
   "mimetype": "text/x-python",
   "name": "python",
   "nbconvert_exporter": "python",
   "pygments_lexer": "ipython3",
   "version": "3.6.12-final"
  },
  "orig_nbformat": 2,
  "kernelspec": {
   "name": "python3",
   "display_name": "Python 3",
   "language": "python"
  }
 },
 "nbformat": 4,
 "nbformat_minor": 2,
 "cells": [
  {
   "cell_type": "code",
   "execution_count": 1,
   "metadata": {},
   "outputs": [],
   "source": [
    "json_path = '/home/palm/PycharmProjects/wordset-dictionary/data/'"
   ]
  },
  {
   "cell_type": "code",
   "execution_count": 2,
   "metadata": {},
   "outputs": [],
   "source": [
    "import json\n",
    "import os"
   ]
  },
  {
   "cell_type": "code",
   "execution_count": null,
   "metadata": {},
   "outputs": [],
   "source": []
  },
  {
   "cell_type": "code",
   "execution_count": 6,
   "metadata": {},
   "outputs": [],
   "source": [
    "data = {}\n",
    "for file in os.listdir(json_path):\n",
    "    data.update(json.load(open(os.path.join(json_path, file))))\n",
    "    "
   ]
  },
  {
   "cell_type": "code",
   "execution_count": 8,
   "metadata": {},
   "outputs": [
    {
     "output_type": "execute_result",
     "data": {
      "text/plain": [
       "{'word': 'school',\n",
       " 'wordset_id': 'e4725ba2cf',\n",
       " 'meanings': [{'id': '1e1459f4df',\n",
       "   'def': 'a building where young people receive education',\n",
       "   'example': 'the school was built in 1932',\n",
       "   'speech_part': 'noun',\n",
       "   'synonyms': ['schoolhouse']},\n",
       "  {'id': '6fba5c084c',\n",
       "   'def': 'the process of being formally educated at a school',\n",
       "   'example': 'what will you do when you finish school?',\n",
       "   'speech_part': 'noun',\n",
       "   'synonyms': ['schooling']},\n",
       "  {'id': '05b6578d06',\n",
       "   'def': 'a large group of fish',\n",
       "   'example': 'a school of small glittering fish swam by',\n",
       "   'speech_part': 'noun',\n",
       "   'synonyms': ['shoal']},\n",
       "  {'id': 'b618d8788d',\n",
       "   'def': 'a body of creative artists or writers or thinkers linked by a similar style or by similar teachers',\n",
       "   'example': 'the Venetian school of painting',\n",
       "   'speech_part': 'noun'},\n",
       "  {'id': '9a5831dc2e',\n",
       "   'def': 'an educational institution',\n",
       "   'example': 'the school was founded in 1900',\n",
       "   'speech_part': 'noun'},\n",
       "  {'id': 'c954597b81',\n",
       "   'def': \"an educational institution's faculty and students\",\n",
       "   'example': 'the school keeps parents informed',\n",
       "   'speech_part': 'noun'},\n",
       "  {'id': 'e01304bade',\n",
       "   'def': 'the period of instruction in a school',\n",
       "   'example': 'the time period when school is in session',\n",
       "   'speech_part': 'noun',\n",
       "   'synonyms': ['schooltime']},\n",
       "  {'id': '3cd729e10b',\n",
       "   'def': 'swim in or form a large group of fish',\n",
       "   'example': 'A cluster of schooling fish was attracted to the bait',\n",
       "   'speech_part': 'verb'},\n",
       "  {'id': 'cdac918ffd',\n",
       "   'def': 'educate in or as if in a school',\n",
       "   'example': 'The children are schooled at great cost to their parents in private institutions',\n",
       "   'speech_part': 'verb'},\n",
       "  {'id': 'b64ab89062',\n",
       "   'def': 'teach or refine to be discriminative in taste or judgment',\n",
       "   'speech_part': 'verb',\n",
       "   'synonyms': ['train']}]}"
      ]
     },
     "metadata": {},
     "execution_count": 8
    }
   ],
   "source": [
    "data['school']"
   ]
  }
 ]
}